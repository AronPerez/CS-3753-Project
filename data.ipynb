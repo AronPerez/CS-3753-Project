{
 "cells": [
  {
   "cell_type": "code",
   "execution_count": 1,
   "metadata": {
    "scrolled": true
   },
   "outputs": [
    {
     "name": "stdout",
     "output_type": "stream",
     "text": [
      "Defaulting to user installation because normal site-packages is not writeable\n",
      "Requirement already satisfied: seaborn in /home/amongstar/.local/lib/python3.8/site-packages (0.11.0)\n",
      "Requirement already satisfied: pandas>=0.23 in /home/amongstar/.local/lib/python3.8/site-packages (from seaborn) (1.1.4)\n",
      "Requirement already satisfied: matplotlib>=2.2 in /home/amongstar/.local/lib/python3.8/site-packages (from seaborn) (3.3.3)\n",
      "Requirement already satisfied: numpy>=1.15 in /usr/local/lib/python3.8/dist-packages (from seaborn) (1.19.4)\n",
      "Requirement already satisfied: scipy>=1.0 in /home/amongstar/.local/lib/python3.8/site-packages (from seaborn) (1.5.4)\n",
      "Requirement already satisfied: python-dateutil>=2.7.3 in /home/amongstar/.local/lib/python3.8/site-packages (from pandas>=0.23->seaborn) (2.8.1)\n",
      "Requirement already satisfied: pytz>=2017.2 in /home/amongstar/.local/lib/python3.8/site-packages (from pandas>=0.23->seaborn) (2020.4)\n",
      "Requirement already satisfied: pyparsing!=2.0.4,!=2.1.2,!=2.1.6,>=2.0.3 in /home/amongstar/.local/lib/python3.8/site-packages (from matplotlib>=2.2->seaborn) (2.4.7)\n",
      "Requirement already satisfied: cycler>=0.10 in /home/amongstar/.local/lib/python3.8/site-packages (from matplotlib>=2.2->seaborn) (0.10.0)\n",
      "Requirement already satisfied: pillow>=6.2.0 in /home/amongstar/.local/lib/python3.8/site-packages (from matplotlib>=2.2->seaborn) (8.0.1)\n",
      "Requirement already satisfied: kiwisolver>=1.0.1 in /home/amongstar/.local/lib/python3.8/site-packages (from matplotlib>=2.2->seaborn) (1.3.1)\n",
      "Requirement already satisfied: six>=1.5 in /home/amongstar/.local/lib/python3.8/site-packages (from python-dateutil>=2.7.3->pandas>=0.23->seaborn) (1.15.0)\n",
      "Defaulting to user installation because normal site-packages is not writeable\n",
      "Looking in links: https://download.pytorch.org/whl/torch_stable.html\n",
      "Requirement already satisfied: torch==1.7.0+cpu in /home/amongstar/.local/lib/python3.8/site-packages (1.7.0+cpu)\n",
      "Requirement already satisfied: torchvision==0.8.1+cpu in /home/amongstar/.local/lib/python3.8/site-packages (0.8.1+cpu)\n",
      "Requirement already satisfied: torchaudio==0.7.0 in /home/amongstar/.local/lib/python3.8/site-packages (0.7.0)\n",
      "Requirement already satisfied: future in /home/amongstar/.local/lib/python3.8/site-packages (from torch==1.7.0+cpu) (0.18.2)\n",
      "Requirement already satisfied: typing-extensions in /home/amongstar/.local/lib/python3.8/site-packages (from torch==1.7.0+cpu) (3.7.4.3)\n",
      "Requirement already satisfied: numpy in /usr/local/lib/python3.8/dist-packages (from torch==1.7.0+cpu) (1.19.4)\n",
      "Requirement already satisfied: dataclasses in /home/amongstar/.local/lib/python3.8/site-packages (from torch==1.7.0+cpu) (0.6)\n",
      "Requirement already satisfied: pillow>=4.1.1 in /home/amongstar/.local/lib/python3.8/site-packages (from torchvision==0.8.1+cpu) (8.0.1)\n",
      "Defaulting to user installation because normal site-packages is not writeable\n",
      "Requirement already satisfied: PyYAML in /usr/lib/python3/dist-packages (5.3.1)\n",
      "Defaulting to user installation because normal site-packages is not writeable\n",
      "Requirement already satisfied: imageio in /home/amongstar/.local/lib/python3.8/site-packages (2.9.0)\n",
      "Requirement already satisfied: pillow in /home/amongstar/.local/lib/python3.8/site-packages (from imageio) (8.0.1)\n",
      "Requirement already satisfied: numpy in /usr/local/lib/python3.8/dist-packages (from imageio) (1.19.4)\n",
      "Defaulting to user installation because normal site-packages is not writeable\n",
      "Requirement already satisfied: colorama in /usr/lib/python3/dist-packages (0.4.3)\n",
      "Defaulting to user installation because normal site-packages is not writeable\n",
      "Requirement already satisfied: pymap3d in /home/amongstar/.local/lib/python3.8/site-packages (2.4.3)\n",
      "Defaulting to user installation because normal site-packages is not writeable\n",
      "Requirement already satisfied: imageio in /home/amongstar/.local/lib/python3.8/site-packages (2.9.0)\n",
      "Requirement already satisfied: pillow in /home/amongstar/.local/lib/python3.8/site-packages (from imageio) (8.0.1)\n",
      "Requirement already satisfied: numpy in /usr/local/lib/python3.8/dist-packages (from imageio) (1.19.4)\n",
      "Defaulting to user installation because normal site-packages is not writeable\n",
      "Requirement already satisfied: matplotlib in /home/amongstar/.local/lib/python3.8/site-packages (3.3.3)\n",
      "Requirement already satisfied: cycler>=0.10 in /home/amongstar/.local/lib/python3.8/site-packages (from matplotlib) (0.10.0)\n",
      "Requirement already satisfied: kiwisolver>=1.0.1 in /home/amongstar/.local/lib/python3.8/site-packages (from matplotlib) (1.3.1)\n",
      "Requirement already satisfied: numpy>=1.15 in /usr/local/lib/python3.8/dist-packages (from matplotlib) (1.19.4)\n",
      "Requirement already satisfied: pyparsing!=2.0.4,!=2.1.2,!=2.1.6,>=2.0.3 in /home/amongstar/.local/lib/python3.8/site-packages (from matplotlib) (2.4.7)\n",
      "Requirement already satisfied: pillow>=6.2.0 in /home/amongstar/.local/lib/python3.8/site-packages (from matplotlib) (8.0.1)\n",
      "Requirement already satisfied: python-dateutil>=2.1 in /home/amongstar/.local/lib/python3.8/site-packages (from matplotlib) (2.8.1)\n",
      "Requirement already satisfied: six in /home/amongstar/.local/lib/python3.8/site-packages (from cycler>=0.10->matplotlib) (1.15.0)\n",
      "Defaulting to user installation because normal site-packages is not writeable\n",
      "Requirement already satisfied: numpy in /usr/local/lib/python3.8/dist-packages (1.19.4)\n",
      "Defaulting to user installation because normal site-packages is not writeable\n",
      "Requirement already satisfied: opencv-contrib-python-headless in /home/amongstar/.local/lib/python3.8/site-packages (4.4.0.46)\n",
      "Requirement already satisfied: numpy>=1.17.3 in /usr/local/lib/python3.8/dist-packages (from opencv-contrib-python-headless) (1.19.4)\n",
      "Defaulting to user installation because normal site-packages is not writeable\n",
      "Requirement already satisfied: scipy in /home/amongstar/.local/lib/python3.8/site-packages (1.5.4)\n",
      "Requirement already satisfied: numpy>=1.14.5 in /usr/local/lib/python3.8/dist-packages (from scipy) (1.19.4)\n",
      "Defaulting to user installation because normal site-packages is not writeable\n",
      "Requirement already satisfied: setuptools in /usr/lib/python3/dist-packages (45.2.0)\n",
      "Defaulting to user installation because normal site-packages is not writeable\n",
      "Requirement already satisfied: tqdm in /home/amongstar/.local/lib/python3.8/site-packages (4.52.0)\n",
      "Defaulting to user installation because normal site-packages is not writeable\n",
      "Requirement already satisfied: transforms3d in /home/amongstar/.local/lib/python3.8/site-packages (0.3.1)\n",
      "Defaulting to user installation because normal site-packages is not writeable\n",
      "Requirement already satisfied: zarr in /usr/local/lib/python3.8/dist-packages (2.5.0)\n",
      "Requirement already satisfied: numcodecs>=0.6.4 in /usr/local/lib/python3.8/dist-packages (from zarr) (0.7.2)\n",
      "Requirement already satisfied: asciitree in /usr/local/lib/python3.8/dist-packages (from zarr) (0.3.3)\n",
      "Requirement already satisfied: fasteners in /usr/local/lib/python3.8/dist-packages (from zarr) (0.15)\n",
      "Requirement already satisfied: numpy>=1.7 in /usr/local/lib/python3.8/dist-packages (from zarr) (1.19.4)\n",
      "Requirement already satisfied: six in /home/amongstar/.local/lib/python3.8/site-packages (from fasteners->zarr) (1.15.0)\n",
      "Requirement already satisfied: monotonic>=0.1 in /usr/local/lib/python3.8/dist-packages (from fasteners->zarr) (1.5)\n",
      "Defaulting to user installation because normal site-packages is not writeable\n",
      "Requirement already satisfied: pyyaml in /usr/lib/python3/dist-packages (5.3.1)\n",
      "Defaulting to user installation because normal site-packages is not writeable\n",
      "Requirement already satisfied: notebook in /home/amongstar/.local/lib/python3.8/site-packages (6.1.5)\n",
      "Requirement already satisfied: tornado>=5.0 in /home/amongstar/.local/lib/python3.8/site-packages (from notebook) (6.1)\n",
      "Requirement already satisfied: nbconvert in /home/amongstar/.local/lib/python3.8/site-packages (from notebook) (6.0.7)\n",
      "Requirement already satisfied: jupyter-client>=5.3.4 in /home/amongstar/.local/lib/python3.8/site-packages (from notebook) (6.1.7)\n",
      "Requirement already satisfied: jinja2 in /usr/lib/python3/dist-packages (from notebook) (2.10.1)\n",
      "Requirement already satisfied: argon2-cffi in /home/amongstar/.local/lib/python3.8/site-packages (from notebook) (20.1.0)\n",
      "Requirement already satisfied: ipykernel in /home/amongstar/.local/lib/python3.8/site-packages (from notebook) (5.3.4)\n",
      "Requirement already satisfied: jupyter-core>=4.6.1 in /home/amongstar/.local/lib/python3.8/site-packages (from notebook) (4.7.0)\n",
      "Requirement already satisfied: nbformat in /home/amongstar/.local/lib/python3.8/site-packages (from notebook) (5.0.8)\n",
      "Requirement already satisfied: terminado>=0.8.3 in /home/amongstar/.local/lib/python3.8/site-packages (from notebook) (0.9.1)\n",
      "Requirement already satisfied: ipython-genutils in /home/amongstar/.local/lib/python3.8/site-packages (from notebook) (0.2.0)\n",
      "Requirement already satisfied: traitlets>=4.2.1 in /home/amongstar/.local/lib/python3.8/site-packages (from notebook) (5.0.5)\n",
      "Requirement already satisfied: Send2Trash in /home/amongstar/.local/lib/python3.8/site-packages (from notebook) (1.5.0)\n",
      "Requirement already satisfied: prometheus-client in /home/amongstar/.local/lib/python3.8/site-packages (from notebook) (0.9.0)\n"
     ]
    },
    {
     "name": "stdout",
     "output_type": "stream",
     "text": [
      "Requirement already satisfied: pyzmq>=17 in /home/amongstar/.local/lib/python3.8/site-packages (from notebook) (20.0.0)\n",
      "Requirement already satisfied: defusedxml in /home/amongstar/.local/lib/python3.8/site-packages (from nbconvert->notebook) (0.6.0)\n",
      "Requirement already satisfied: pandocfilters>=1.4.1 in /home/amongstar/.local/lib/python3.8/site-packages (from nbconvert->notebook) (1.4.3)\n",
      "Requirement already satisfied: jupyterlab-pygments in /home/amongstar/.local/lib/python3.8/site-packages (from nbconvert->notebook) (0.1.2)\n",
      "Requirement already satisfied: entrypoints>=0.2.2 in /usr/lib/python3/dist-packages (from nbconvert->notebook) (0.3)\n",
      "Requirement already satisfied: pygments>=2.4.1 in /home/amongstar/.local/lib/python3.8/site-packages (from nbconvert->notebook) (2.7.2)\n",
      "Requirement already satisfied: nbclient<0.6.0,>=0.5.0 in /home/amongstar/.local/lib/python3.8/site-packages (from nbconvert->notebook) (0.5.1)\n",
      "Requirement already satisfied: testpath in /home/amongstar/.local/lib/python3.8/site-packages (from nbconvert->notebook) (0.4.4)\n",
      "Requirement already satisfied: mistune<2,>=0.8.1 in /home/amongstar/.local/lib/python3.8/site-packages (from nbconvert->notebook) (0.8.4)\n",
      "Requirement already satisfied: bleach in /home/amongstar/.local/lib/python3.8/site-packages (from nbconvert->notebook) (3.2.1)\n",
      "Requirement already satisfied: python-dateutil>=2.1 in /home/amongstar/.local/lib/python3.8/site-packages (from jupyter-client>=5.3.4->notebook) (2.8.1)\n",
      "Requirement already satisfied: six in /home/amongstar/.local/lib/python3.8/site-packages (from argon2-cffi->notebook) (1.15.0)\n",
      "Requirement already satisfied: cffi>=1.0.0 in /home/amongstar/.local/lib/python3.8/site-packages (from argon2-cffi->notebook) (1.14.3)\n",
      "Requirement already satisfied: ipython>=5.0.0 in /home/amongstar/.local/lib/python3.8/site-packages (from ipykernel->notebook) (7.19.0)\n",
      "Requirement already satisfied: jsonschema!=2.5.0,>=2.4 in /usr/lib/python3/dist-packages (from nbformat->notebook) (3.2.0)\n",
      "Requirement already satisfied: ptyprocess; os_name != \"nt\" in /home/amongstar/.local/lib/python3.8/site-packages (from terminado>=0.8.3->notebook) (0.6.0)\n",
      "Requirement already satisfied: nest-asyncio in /home/amongstar/.local/lib/python3.8/site-packages (from nbclient<0.6.0,>=0.5.0->nbconvert->notebook) (1.4.3)\n",
      "Requirement already satisfied: async-generator in /home/amongstar/.local/lib/python3.8/site-packages (from nbclient<0.6.0,>=0.5.0->nbconvert->notebook) (1.10)\n",
      "Requirement already satisfied: packaging in /home/amongstar/.local/lib/python3.8/site-packages (from bleach->nbconvert->notebook) (20.4)\n",
      "Requirement already satisfied: webencodings in /home/amongstar/.local/lib/python3.8/site-packages (from bleach->nbconvert->notebook) (0.5.1)\n",
      "Requirement already satisfied: pycparser in /home/amongstar/.local/lib/python3.8/site-packages (from cffi>=1.0.0->argon2-cffi->notebook) (2.20)\n",
      "Requirement already satisfied: setuptools>=18.5 in /usr/lib/python3/dist-packages (from ipython>=5.0.0->ipykernel->notebook) (45.2.0)\n",
      "Requirement already satisfied: decorator in /home/amongstar/.local/lib/python3.8/site-packages (from ipython>=5.0.0->ipykernel->notebook) (4.4.2)\n",
      "Requirement already satisfied: pexpect>4.3; sys_platform != \"win32\" in /usr/lib/python3/dist-packages (from ipython>=5.0.0->ipykernel->notebook) (4.6.0)\n",
      "Requirement already satisfied: pickleshare in /home/amongstar/.local/lib/python3.8/site-packages (from ipython>=5.0.0->ipykernel->notebook) (0.7.5)\n",
      "Requirement already satisfied: prompt-toolkit!=3.0.0,!=3.0.1,<3.1.0,>=2.0.0 in /home/amongstar/.local/lib/python3.8/site-packages (from ipython>=5.0.0->ipykernel->notebook) (3.0.8)\n",
      "Requirement already satisfied: backcall in /home/amongstar/.local/lib/python3.8/site-packages (from ipython>=5.0.0->ipykernel->notebook) (0.2.0)\n",
      "Requirement already satisfied: jedi>=0.10 in /home/amongstar/.local/lib/python3.8/site-packages (from ipython>=5.0.0->ipykernel->notebook) (0.17.2)\n",
      "Requirement already satisfied: pyparsing>=2.0.2 in /home/amongstar/.local/lib/python3.8/site-packages (from packaging->bleach->nbconvert->notebook) (2.4.7)\n",
      "Requirement already satisfied: wcwidth in /usr/local/lib/python3.8/dist-packages (from prompt-toolkit!=3.0.0,!=3.0.1,<3.1.0,>=2.0.0->ipython>=5.0.0->ipykernel->notebook) (0.2.5)\n",
      "Requirement already satisfied: parso<0.8.0,>=0.7.0 in /home/amongstar/.local/lib/python3.8/site-packages (from jedi>=0.10->ipython>=5.0.0->ipykernel->notebook) (0.7.1)\n",
      "Defaulting to user installation because normal site-packages is not writeable\n",
      "Requirement already satisfied: ptable in /home/amongstar/.local/lib/python3.8/site-packages (0.9.2)\n",
      "Defaulting to user installation because normal site-packages is not writeable\n",
      "Requirement already satisfied: ipywidgets in /home/amongstar/.local/lib/python3.8/site-packages (7.5.1)\n",
      "Requirement already satisfied: ipykernel>=4.5.1 in /home/amongstar/.local/lib/python3.8/site-packages (from ipywidgets) (5.3.4)\n",
      "Requirement already satisfied: ipython>=4.0.0; python_version >= \"3.3\" in /home/amongstar/.local/lib/python3.8/site-packages (from ipywidgets) (7.19.0)\n",
      "Requirement already satisfied: nbformat>=4.2.0 in /home/amongstar/.local/lib/python3.8/site-packages (from ipywidgets) (5.0.8)\n",
      "Requirement already satisfied: traitlets>=4.3.1 in /home/amongstar/.local/lib/python3.8/site-packages (from ipywidgets) (5.0.5)\n",
      "Requirement already satisfied: widgetsnbextension~=3.5.0 in /home/amongstar/.local/lib/python3.8/site-packages (from ipywidgets) (3.5.1)\n",
      "Requirement already satisfied: tornado>=4.2 in /home/amongstar/.local/lib/python3.8/site-packages (from ipykernel>=4.5.1->ipywidgets) (6.1)\n",
      "Requirement already satisfied: jupyter-client in /home/amongstar/.local/lib/python3.8/site-packages (from ipykernel>=4.5.1->ipywidgets) (6.1.7)\n",
      "Requirement already satisfied: pygments in /home/amongstar/.local/lib/python3.8/site-packages (from ipython>=4.0.0; python_version >= \"3.3\"->ipywidgets) (2.7.2)\n",
      "Requirement already satisfied: pickleshare in /home/amongstar/.local/lib/python3.8/site-packages (from ipython>=4.0.0; python_version >= \"3.3\"->ipywidgets) (0.7.5)\n",
      "Requirement already satisfied: backcall in /home/amongstar/.local/lib/python3.8/site-packages (from ipython>=4.0.0; python_version >= \"3.3\"->ipywidgets) (0.2.0)\n",
      "Requirement already satisfied: decorator in /home/amongstar/.local/lib/python3.8/site-packages (from ipython>=4.0.0; python_version >= \"3.3\"->ipywidgets) (4.4.2)\n",
      "Requirement already satisfied: jedi>=0.10 in /home/amongstar/.local/lib/python3.8/site-packages (from ipython>=4.0.0; python_version >= \"3.3\"->ipywidgets) (0.17.2)\n",
      "Requirement already satisfied: pexpect>4.3; sys_platform != \"win32\" in /usr/lib/python3/dist-packages (from ipython>=4.0.0; python_version >= \"3.3\"->ipywidgets) (4.6.0)\n",
      "Requirement already satisfied: setuptools>=18.5 in /usr/lib/python3/dist-packages (from ipython>=4.0.0; python_version >= \"3.3\"->ipywidgets) (45.2.0)\n",
      "Requirement already satisfied: prompt-toolkit!=3.0.0,!=3.0.1,<3.1.0,>=2.0.0 in /home/amongstar/.local/lib/python3.8/site-packages (from ipython>=4.0.0; python_version >= \"3.3\"->ipywidgets) (3.0.8)\n",
      "Requirement already satisfied: jupyter-core in /home/amongstar/.local/lib/python3.8/site-packages (from nbformat>=4.2.0->ipywidgets) (4.7.0)\n",
      "Requirement already satisfied: ipython-genutils in /home/amongstar/.local/lib/python3.8/site-packages (from nbformat>=4.2.0->ipywidgets) (0.2.0)\n",
      "Requirement already satisfied: jsonschema!=2.5.0,>=2.4 in /usr/lib/python3/dist-packages (from nbformat>=4.2.0->ipywidgets) (3.2.0)\n",
      "Requirement already satisfied: notebook>=4.4.1 in /home/amongstar/.local/lib/python3.8/site-packages (from widgetsnbextension~=3.5.0->ipywidgets) (6.1.5)\n",
      "Requirement already satisfied: pyzmq>=13 in /home/amongstar/.local/lib/python3.8/site-packages (from jupyter-client->ipykernel>=4.5.1->ipywidgets) (20.0.0)\n",
      "Requirement already satisfied: python-dateutil>=2.1 in /home/amongstar/.local/lib/python3.8/site-packages (from jupyter-client->ipykernel>=4.5.1->ipywidgets) (2.8.1)\n",
      "Requirement already satisfied: parso<0.8.0,>=0.7.0 in /home/amongstar/.local/lib/python3.8/site-packages (from jedi>=0.10->ipython>=4.0.0; python_version >= \"3.3\"->ipywidgets) (0.7.1)\n",
      "Requirement already satisfied: wcwidth in /usr/local/lib/python3.8/dist-packages (from prompt-toolkit!=3.0.0,!=3.0.1,<3.1.0,>=2.0.0->ipython>=4.0.0; python_version >= \"3.3\"->ipywidgets) (0.2.5)\n"
     ]
    },
    {
     "name": "stdout",
     "output_type": "stream",
     "text": [
      "Requirement already satisfied: prometheus-client in /home/amongstar/.local/lib/python3.8/site-packages (from notebook>=4.4.1->widgetsnbextension~=3.5.0->ipywidgets) (0.9.0)\n",
      "Requirement already satisfied: terminado>=0.8.3 in /home/amongstar/.local/lib/python3.8/site-packages (from notebook>=4.4.1->widgetsnbextension~=3.5.0->ipywidgets) (0.9.1)\n",
      "Requirement already satisfied: jinja2 in /usr/lib/python3/dist-packages (from notebook>=4.4.1->widgetsnbextension~=3.5.0->ipywidgets) (2.10.1)\n",
      "Requirement already satisfied: argon2-cffi in /home/amongstar/.local/lib/python3.8/site-packages (from notebook>=4.4.1->widgetsnbextension~=3.5.0->ipywidgets) (20.1.0)\n",
      "Requirement already satisfied: Send2Trash in /home/amongstar/.local/lib/python3.8/site-packages (from notebook>=4.4.1->widgetsnbextension~=3.5.0->ipywidgets) (1.5.0)\n",
      "Requirement already satisfied: nbconvert in /home/amongstar/.local/lib/python3.8/site-packages (from notebook>=4.4.1->widgetsnbextension~=3.5.0->ipywidgets) (6.0.7)\n",
      "Requirement already satisfied: six>=1.5 in /home/amongstar/.local/lib/python3.8/site-packages (from python-dateutil>=2.1->jupyter-client->ipykernel>=4.5.1->ipywidgets) (1.15.0)\n",
      "Requirement already satisfied: ptyprocess; os_name != \"nt\" in /home/amongstar/.local/lib/python3.8/site-packages (from terminado>=0.8.3->notebook>=4.4.1->widgetsnbextension~=3.5.0->ipywidgets) (0.6.0)\n",
      "Requirement already satisfied: cffi>=1.0.0 in /home/amongstar/.local/lib/python3.8/site-packages (from argon2-cffi->notebook>=4.4.1->widgetsnbextension~=3.5.0->ipywidgets) (1.14.3)\n",
      "Requirement already satisfied: entrypoints>=0.2.2 in /usr/lib/python3/dist-packages (from nbconvert->notebook>=4.4.1->widgetsnbextension~=3.5.0->ipywidgets) (0.3)\n",
      "Requirement already satisfied: pandocfilters>=1.4.1 in /home/amongstar/.local/lib/python3.8/site-packages (from nbconvert->notebook>=4.4.1->widgetsnbextension~=3.5.0->ipywidgets) (1.4.3)\n",
      "Requirement already satisfied: bleach in /home/amongstar/.local/lib/python3.8/site-packages (from nbconvert->notebook>=4.4.1->widgetsnbextension~=3.5.0->ipywidgets) (3.2.1)\n",
      "Requirement already satisfied: defusedxml in /home/amongstar/.local/lib/python3.8/site-packages (from nbconvert->notebook>=4.4.1->widgetsnbextension~=3.5.0->ipywidgets) (0.6.0)\n",
      "Requirement already satisfied: nbclient<0.6.0,>=0.5.0 in /home/amongstar/.local/lib/python3.8/site-packages (from nbconvert->notebook>=4.4.1->widgetsnbextension~=3.5.0->ipywidgets) (0.5.1)\n",
      "Requirement already satisfied: testpath in /home/amongstar/.local/lib/python3.8/site-packages (from nbconvert->notebook>=4.4.1->widgetsnbextension~=3.5.0->ipywidgets) (0.4.4)\n",
      "Requirement already satisfied: jupyterlab-pygments in /home/amongstar/.local/lib/python3.8/site-packages (from nbconvert->notebook>=4.4.1->widgetsnbextension~=3.5.0->ipywidgets) (0.1.2)\n",
      "Requirement already satisfied: mistune<2,>=0.8.1 in /home/amongstar/.local/lib/python3.8/site-packages (from nbconvert->notebook>=4.4.1->widgetsnbextension~=3.5.0->ipywidgets) (0.8.4)\n",
      "Requirement already satisfied: pycparser in /home/amongstar/.local/lib/python3.8/site-packages (from cffi>=1.0.0->argon2-cffi->notebook>=4.4.1->widgetsnbextension~=3.5.0->ipywidgets) (2.20)\n",
      "Requirement already satisfied: packaging in /home/amongstar/.local/lib/python3.8/site-packages (from bleach->nbconvert->notebook>=4.4.1->widgetsnbextension~=3.5.0->ipywidgets) (20.4)\n",
      "Requirement already satisfied: webencodings in /home/amongstar/.local/lib/python3.8/site-packages (from bleach->nbconvert->notebook>=4.4.1->widgetsnbextension~=3.5.0->ipywidgets) (0.5.1)\n",
      "Requirement already satisfied: nest-asyncio in /home/amongstar/.local/lib/python3.8/site-packages (from nbclient<0.6.0,>=0.5.0->nbconvert->notebook>=4.4.1->widgetsnbextension~=3.5.0->ipywidgets) (1.4.3)\n",
      "Requirement already satisfied: async-generator in /home/amongstar/.local/lib/python3.8/site-packages (from nbclient<0.6.0,>=0.5.0->nbconvert->notebook>=4.4.1->widgetsnbextension~=3.5.0->ipywidgets) (1.10)\n",
      "Requirement already satisfied: pyparsing>=2.0.2 in /home/amongstar/.local/lib/python3.8/site-packages (from packaging->bleach->nbconvert->notebook>=4.4.1->widgetsnbextension~=3.5.0->ipywidgets) (2.4.7)\n"
     ]
    }
   ],
   "source": [
    "# install packages for first time setup in venv\n",
    "!pip install seaborn\n",
    "!pip install torch==1.7.0+cpu torchvision==0.8.1+cpu torchaudio==0.7.0 -f https://download.pytorch.org/whl/torch_stable.html\n",
    "!pip install PyYAML\n",
    "!pip install imageio\n",
    "!pip install colorama\n",
    "!pip install pymap3d\n",
    "!pip install imageio\n",
    "!pip install matplotlib\n",
    "!pip install numpy\n",
    "!pip install opencv-contrib-python-headless\n",
    "!pip install protobuf>=3.12.2\n",
    "!pip install scipy\n",
    "!pip install setuptools\n",
    "!pip install tqdm\n",
    "!pip install transforms3d\n",
    "!pip install zarr\n",
    "!pip install pyyaml\n",
    "!pip install notebook\n",
    "!pip install ptable\n",
    "!pip install ipywidgets\n",
    "# import packages\n",
    "import os, gc\n",
    "import zarr\n",
    "import numpy as np \n",
    "import pandas as pd \n",
    "import seaborn as sns\n",
    "import matplotlib.pyplot as plt\n",
    "import torch\n",
    "import l5kit\n",
    "from tqdm import tqdm\n",
    "from typing import Dict\n",
    "from collections import Counter\n",
    "from prettytable import PrettyTable\n",
    "\n",
    "\n",
    "#level5 toolkit\n",
    "from l5kit.data import PERCEPTION_LABELS\n",
    "from l5kit.dataset import EgoDataset, AgentDataset\n",
    "from l5kit.data import ChunkedDataset, LocalDataManager\n",
    "\n",
    "# level5 toolkit \n",
    "from l5kit.configs import load_config_data\n",
    "from l5kit.geometry import transform_points\n",
    "from l5kit.rasterization import build_rasterizer\n",
    "from l5kit.visualization import draw_trajectory, draw_reference_trajectory, TARGET_POINTS_COLOR\n",
    "from l5kit.evaluation import write_pred_csv, compute_metrics_csv, read_gt_csv, create_chopped_dataset\n",
    "\n",
    "# visualization\n",
    "from matplotlib import animation\n",
    "from colorama import Fore, Back, Style\n",
    "\n",
    "# deep learning\n",
    "from torch import nn, optim\n",
    "from torch.utils.data import DataLoader\n",
    "from torchvision.models.resnet import resnet18, resnet50, resnet34\n",
    "\n"
   ]
  },
  {
   "cell_type": "code",
   "execution_count": 2,
   "metadata": {},
   "outputs": [
    {
     "name": "stdout",
     "output_type": "stream",
     "text": [
      "['lyft_config_files', 'scenes', 'single_mode_sample_submission.csv', 'aerial_map', 'multi_mode_sample_submission.csv', 'archive.zip', 'semantic_map', 'lyft-motion-prediction-autonomous-vehicles.zip', 'meta.json']\n"
     ]
    }
   ],
   "source": [
    "# check files in directory\n",
    "print((os.listdir('../../../Dataset')))\n",
    "\n",
    "plt.rc('animation', html='jshtml')\n",
    "\n",
    "%matplotlib inline"
   ]
  },
  {
   "cell_type": "code",
   "execution_count": 3,
   "metadata": {},
   "outputs": [],
   "source": [
    "# animation for scene\n",
    "def animate_solution(images):\n",
    "\n",
    "    def animate(i):\n",
    "        im.set_data(images[i])\n",
    " \n",
    "    fig, ax = plt.subplots()\n",
    "    im = ax.imshow(images[0])\n",
    "    \n",
    "    return animation.FuncAnimation(fig, animate, frames=len(images), interval=80)"
   ]
  },
  {
   "cell_type": "code",
   "execution_count": 4,
   "metadata": {},
   "outputs": [
    {
     "name": "stdout",
     "output_type": "stream",
     "text": [
      "([0, 0, 0], False)\n"
     ]
    }
   ],
   "source": [
    "my_arr = np.zeros(3, dtype=[(\"color\", (np.uint8, 3)), (\"label\", np.bool)])\n",
    "\n",
    "print(my_arr[0])"
   ]
  },
  {
   "cell_type": "code",
   "execution_count": 5,
   "metadata": {},
   "outputs": [
    {
     "name": "stdout",
     "output_type": "stream",
     "text": [
      "[([  0, 218, 130],  True) ([  7,   6,  97],  True)\n",
      " ([  0,   0,   0], False)]\n"
     ]
    }
   ],
   "source": [
    "my_arr[0][\"color\"] = [0, 218, 130]\n",
    "my_arr[0][\"label\"] = True\n",
    "my_arr[1][\"color\"] = [245, 59, 255]\n",
    "my_arr[1][\"label\"] = True\n",
    "my_arr[1][\"color\"] = [7, 6, 97]\n",
    "my_arr[1][\"label\"] = True\n",
    "\n",
    "print(my_arr)"
   ]
  },
  {
   "cell_type": "code",
   "execution_count": 6,
   "metadata": {
    "scrolled": false
   },
   "outputs": [
    {
     "data": {
      "text/html": [
       "<table class=\"zarr-info\"><tbody><tr><th style=\"text-align: left\">Name</th><td style=\"text-align: left\">/</td></tr><tr><th style=\"text-align: left\">Type</th><td style=\"text-align: left\">zarr.hierarchy.Group</td></tr><tr><th style=\"text-align: left\">Read-only</th><td style=\"text-align: left\">False</td></tr><tr><th style=\"text-align: left\">Store type</th><td style=\"text-align: left\">zarr.storage.DirectoryStore</td></tr><tr><th style=\"text-align: left\">No. members</th><td style=\"text-align: left\">5</td></tr><tr><th style=\"text-align: left\">No. arrays</th><td style=\"text-align: left\">4</td></tr><tr><th style=\"text-align: left\">No. groups</th><td style=\"text-align: left\">1</td></tr><tr><th style=\"text-align: left\">Arrays</th><td style=\"text-align: left\">agents, frames, scenes, traffic_light_faces</td></tr><tr><th style=\"text-align: left\">Groups</th><td style=\"text-align: left\">agents_mask</td></tr></tbody></table>"
      ],
      "text/plain": [
       "Name        : /\n",
       "Type        : zarr.hierarchy.Group\n",
       "Read-only   : False\n",
       "Store type  : zarr.storage.DirectoryStore\n",
       "No. members : 5\n",
       "No. arrays  : 4\n",
       "No. groups  : 1\n",
       "Arrays      : agents, frames, scenes, traffic_light_faces\n",
       "Groups      : agents_mask"
      ]
     },
     "execution_count": 6,
     "metadata": {},
     "output_type": "execute_result"
    }
   ],
   "source": [
    "train = zarr.open(\"../../../Dataset/scenes/train.zarr\")\n",
    "validation = zarr.open(\"../../../Dataset/scenes/validate.zarr\")\n",
    "test = zarr.open(\"../../../Dataset/scenes/test.zarr/\")\n",
    "train.info"
   ]
  },
  {
   "cell_type": "code",
   "execution_count": 7,
   "metadata": {},
   "outputs": [
    {
     "name": "stdout",
     "output_type": "stream",
     "text": [
      "We have 320124624 agents, 16265 scenes, 4039527 frames and 38735988 traffic light faces in train.zarr.\n",
      "We have 312617887 agents, 16220 scenes, 4030296 frames and 29277930 traffic light faces in validation.zarr.\n",
      "We have 88594921 agents, 11314 scenes, 1131400 frames and 7854144 traffic light faces in test.zarr.\n"
     ]
    }
   ],
   "source": [
    "print(f'We have {len(train.agents)} agents, {len(train.scenes)} scenes, {len(train.frames)} frames and {len(train.traffic_light_faces)} traffic light faces in train.zarr.')\n",
    "print(f'We have {len(validation.agents)} agents, {len(validation.scenes)} scenes, {len(validation.frames)} frames and {len(validation.traffic_light_faces)} traffic light faces in validation.zarr.')\n",
    "print(f'We have {len(test.agents)} agents, {len(test.scenes)} scenes, {len(test.frames)} frames and {len(test.traffic_light_faces)} traffic light faces in test.zarr.')"
   ]
  },
  {
   "cell_type": "code",
   "execution_count": 8,
   "metadata": {},
   "outputs": [
    {
     "name": "stdout",
     "output_type": "stream",
     "text": [
      "{'format_version': 4, 'model_params': {'model_architecture': 'resnet50', 'history_num_frames': 0, 'history_step_size': 1, 'history_delta_time': 0.1, 'future_num_frames': 50, 'future_step_size': 1, 'future_delta_time': 0.1}, 'raster_params': {'raster_size': [224, 224], 'pixel_size': [0.5, 0.5], 'ego_center': [0.25, 0.5], 'map_type': 'py_semantic', 'satellite_map_key': 'aerial_map/aerial_map.png', 'semantic_map_key': 'semantic_map/semantic_map.pb', 'dataset_meta_key': 'meta.json', 'filter_agents_threshold': 0.5}, 'val_data_loader': {'key': 'scenes/sample.zarr', 'batch_size': 12, 'shuffle': False, 'num_workers': 16}}\n"
     ]
    }
   ],
   "source": [
    "# set env variable for data\n",
    "os.environ[\"L5KIT_DATA_FOLDER\"] = \"../../../Dataset\"\n",
    "\n",
    "# get configuration yaml\n",
    "cfg = load_config_data(\"../../../Dataset/lyft_config_files/visualisation_config.yaml\")\n",
    "print(cfg)"
   ]
  },
  {
   "cell_type": "markdown",
   "metadata": {},
   "source": [
    "## Let's make our own config file!"
   ]
  },
  {
   "cell_type": "code",
   "execution_count": 9,
   "metadata": {},
   "outputs": [
    {
     "name": "stdout",
     "output_type": "stream",
     "text": [
      "current raster_param:\n",
      "\n",
      "raster_size:[224, 224]\n",
      "pixel_size:[0.5, 0.5]\n",
      "ego_center:[0.25, 0.5]\n",
      "map_type:py_semantic\n",
      "satellite_map_key:aerial_map/aerial_map.png\n",
      "semantic_map_key:semantic_map/semantic_map.pb\n",
      "dataset_meta_key:meta.json\n",
      "filter_agents_threshold:0.5\n"
     ]
    }
   ],
   "source": [
    "# Raster Parameters\n",
    "print(f'current raster_param:\\n')\n",
    "for k,v in cfg[\"raster_params\"].items():\n",
    "    print(f\"{k}:{v}\")"
   ]
  },
  {
   "cell_type": "markdown",
   "metadata": {},
   "source": [
    "## Load the data"
   ]
  },
  {
   "cell_type": "code",
   "execution_count": 10,
   "metadata": {},
   "outputs": [
    {
     "name": "stdout",
     "output_type": "stream",
     "text": [
      "+------------+------------+------------+---------------+-----------------+----------------------+----------------------+----------------------+---------------------+\n",
      "| Num Scenes | Num Frames | Num Agents | Num TR lights | Total Time (hr) | Avg Frames per Scene | Avg Agents per Frame | Avg Scene Time (sec) | Avg Frame frequency |\n",
      "+------------+------------+------------+---------------+-----------------+----------------------+----------------------+----------------------+---------------------+\n",
      "|    100     |   24838    |  1893736   |     316008    |       0.69      |        248.38        |        76.24         |        24.83         |        10.00        |\n",
      "+------------+------------+------------+---------------+-----------------+----------------------+----------------------+----------------------+---------------------+\n"
     ]
    }
   ],
   "source": [
    "dm = LocalDataManager()\n",
    "dataset_path = dm.require(cfg[\"val_data_loader\"][\"key\"])\n",
    "zarr_dataset = ChunkedDataset(dataset_path)\n",
    "zarr_dataset.open()\n",
    "print(zarr_dataset)"
   ]
  },
  {
   "cell_type": "code",
   "execution_count": 11,
   "metadata": {
    "scrolled": true
   },
   "outputs": [
    {
     "name": "stdout",
     "output_type": "stream",
     "text": [
      "../../../Dataset/scenes/sample.zarr\n"
     ]
    }
   ],
   "source": [
    "print(dataset_path)"
   ]
  },
  {
   "cell_type": "code",
   "execution_count": 13,
   "metadata": {},
   "outputs": [
    {
     "name": "stdout",
     "output_type": "stream",
     "text": [
      "+------------------------------------+---------+\n",
      "|               label                |  counts |\n",
      "+------------------------------------+---------+\n",
      "|      PERCEPTION_LABEL_NOT_SET      |    0    |\n",
      "|      PERCEPTION_LABEL_UNKNOWN      | 1324481 |\n",
      "|     PERCEPTION_LABEL_DONTCARE      |    0    |\n",
      "|        PERCEPTION_LABEL_CAR        |  519385 |\n",
      "|        PERCEPTION_LABEL_VAN        |    0    |\n",
      "|       PERCEPTION_LABEL_TRAM        |    0    |\n",
      "|        PERCEPTION_LABEL_BUS        |    0    |\n",
      "|       PERCEPTION_LABEL_TRUCK       |    0    |\n",
      "| PERCEPTION_LABEL_EMERGENCY_VEHICLE |    0    |\n",
      "|   PERCEPTION_LABEL_OTHER_VEHICLE   |    0    |\n",
      "|      PERCEPTION_LABEL_BICYCLE      |    0    |\n",
      "|    PERCEPTION_LABEL_MOTORCYCLE     |    0    |\n",
      "|      PERCEPTION_LABEL_CYCLIST      |   6688  |\n",
      "|   PERCEPTION_LABEL_MOTORCYCLIST    |    0    |\n",
      "|    PERCEPTION_LABEL_PEDESTRIAN     |  43182  |\n",
      "|      PERCEPTION_LABEL_ANIMAL       |    0    |\n",
      "|     AVRESEARCH_LABEL_DONTCARE      |    0    |\n",
      "+------------------------------------+---------+\n"
     ]
    }
   ],
   "source": [
    "agents = zarr_dataset.agents\n",
    "probabilities = agents[\"label_probabilities\"]\n",
    "labels_indexes = np.argmax(probabilities, axis=1)\n",
    "counts = []\n",
    "for idx_label, label in enumerate(PERCEPTION_LABELS):\n",
    "    counts.append(np.sum(labels_indexes == idx_label))\n",
    "    \n",
    "table = PrettyTable(field_names=[\"label\", \"counts\"])\n",
    "for count, label in zip(counts, PERCEPTION_LABELS):\n",
    "    table.add_row([label, count])\n",
    "print(table)"
   ]
  }
 ],
 "metadata": {
  "kernelspec": {
   "display_name": "Python 3",
   "language": "python",
   "name": "python3"
  },
  "language_info": {
   "codemirror_mode": {
    "name": "ipython",
    "version": 3
   },
   "file_extension": ".py",
   "mimetype": "text/x-python",
   "name": "python",
   "nbconvert_exporter": "python",
   "pygments_lexer": "ipython3",
   "version": "3.8.5"
  }
 },
 "nbformat": 4,
 "nbformat_minor": 4
}
